{
 "cells": [
  {
   "cell_type": "markdown",
   "metadata": {},
   "source": [
    "Installing necessary Python libraries and packages:\n",
    "* pandas\n",
    "* numpy\n",
    "* scikit-learn"
   ]
  },
  {
   "cell_type": "code",
   "execution_count": 117,
   "metadata": {},
   "outputs": [
    {
     "name": "stdout",
     "output_type": "stream",
     "text": [
      "Requirement already satisfied: pandas in c:\\users\\user\\appdata\\local\\programs\\python\\python312\\lib\\site-packages (2.2.2)\n",
      "Requirement already satisfied: numpy>=1.26.0 in c:\\users\\user\\appdata\\local\\programs\\python\\python312\\lib\\site-packages (from pandas) (2.0.0)\n",
      "Requirement already satisfied: python-dateutil>=2.8.2 in c:\\users\\user\\appdata\\roaming\\python\\python312\\site-packages (from pandas) (2.9.0.post0)\n",
      "Requirement already satisfied: pytz>=2020.1 in c:\\users\\user\\appdata\\local\\programs\\python\\python312\\lib\\site-packages (from pandas) (2024.1)\n",
      "Requirement already satisfied: tzdata>=2022.7 in c:\\users\\user\\appdata\\local\\programs\\python\\python312\\lib\\site-packages (from pandas) (2024.1)\n",
      "Requirement already satisfied: six>=1.5 in c:\\users\\user\\appdata\\roaming\\python\\python312\\site-packages (from python-dateutil>=2.8.2->pandas) (1.16.0)\n",
      "Note: you may need to restart the kernel to use updated packages.\n"
     ]
    },
    {
     "name": "stderr",
     "output_type": "stream",
     "text": [
      "\n",
      "[notice] A new release of pip is available: 24.0 -> 24.1.2\n",
      "[notice] To update, run: python.exe -m pip install --upgrade pip\n"
     ]
    },
    {
     "name": "stdout",
     "output_type": "stream",
     "text": [
      "Requirement already satisfied: numpy in c:\\users\\user\\appdata\\local\\programs\\python\\python312\\lib\\site-packages (2.0.0)\n",
      "Note: you may need to restart the kernel to use updated packages.\n"
     ]
    },
    {
     "name": "stderr",
     "output_type": "stream",
     "text": [
      "\n",
      "[notice] A new release of pip is available: 24.0 -> 24.1.2\n",
      "[notice] To update, run: python.exe -m pip install --upgrade pip\n"
     ]
    },
    {
     "name": "stdout",
     "output_type": "stream",
     "text": [
      "Requirement already satisfied: scikit-learn in c:\\users\\user\\appdata\\local\\programs\\python\\python312\\lib\\site-packages (1.5.1)\n",
      "Requirement already satisfied: numpy>=1.19.5 in c:\\users\\user\\appdata\\local\\programs\\python\\python312\\lib\\site-packages (from scikit-learn) (2.0.0)\n",
      "Requirement already satisfied: scipy>=1.6.0 in c:\\users\\user\\appdata\\local\\programs\\python\\python312\\lib\\site-packages (from scikit-learn) (1.14.0)\n",
      "Requirement already satisfied: joblib>=1.2.0 in c:\\users\\user\\appdata\\local\\programs\\python\\python312\\lib\\site-packages (from scikit-learn) (1.4.2)\n",
      "Requirement already satisfied: threadpoolctl>=3.1.0 in c:\\users\\user\\appdata\\local\\programs\\python\\python312\\lib\\site-packages (from scikit-learn) (3.5.0)\n",
      "Note: you may need to restart the kernel to use updated packages.\n"
     ]
    },
    {
     "name": "stderr",
     "output_type": "stream",
     "text": [
      "\n",
      "[notice] A new release of pip is available: 24.0 -> 24.1.2\n",
      "[notice] To update, run: python.exe -m pip install --upgrade pip\n"
     ]
    }
   ],
   "source": [
    "%pip install pandas\n",
    "%pip install numpy\n",
    "%pip install scikit-learn"
   ]
  },
  {
   "cell_type": "markdown",
   "metadata": {},
   "source": [
    "Importing all necessary libraries and packages"
   ]
  },
  {
   "cell_type": "code",
   "execution_count": 118,
   "metadata": {},
   "outputs": [],
   "source": [
    "import pandas\n",
    "import numpy\n",
    "from sklearn.neighbors import KNeighborsClassifier\n",
    "from sklearn import tree\n",
    "from sklearn.metrics import confusion_matrix, accuracy_score, precision_score, recall_score, f1_score\n",
    "from sklearn.model_selection import train_test_split"
   ]
  },
  {
   "cell_type": "markdown",
   "metadata": {},
   "source": [
    "Loading all the data from ***diabetes_prediction_dataset.csv*** and examine structure"
   ]
  },
  {
   "cell_type": "code",
   "execution_count": 119,
   "metadata": {},
   "outputs": [
    {
     "name": "stdout",
     "output_type": "stream",
     "text": [
      "Dataset shape:  (100000, 9)\n",
      "   gender   age  hypertension  heart_disease smoking_history    bmi  \\\n",
      "0  Female  80.0             0              1           never  25.19   \n",
      "1  Female  54.0             0              0         No Info  27.32   \n",
      "2    Male  28.0             0              0           never  27.32   \n",
      "3  Female  36.0             0              0         current  23.45   \n",
      "4    Male  76.0             1              1         current  20.14   \n",
      "\n",
      "   HbA1c_level  blood_glucose_level  diabetes  \n",
      "0          6.6                  140         0  \n",
      "1          6.6                   80         0  \n",
      "2          5.7                  158         0  \n",
      "3          5.0                  155         0  \n",
      "4          4.8                  155         0  \n",
      "All columns present in dataset: \n",
      "1. gender\n",
      "2. age\n",
      "3. hypertension\n",
      "4. heart_disease\n",
      "5. smoking_history\n",
      "6. bmi\n",
      "7. HbA1c_level\n",
      "8. blood_glucose_level\n",
      "9. diabetes\n",
      "Dataset information:  <bound method DataFrame.info of        gender   age  hypertension  heart_disease smoking_history    bmi  \\\n",
      "0      Female  80.0             0              1           never  25.19   \n",
      "1      Female  54.0             0              0         No Info  27.32   \n",
      "2        Male  28.0             0              0           never  27.32   \n",
      "3      Female  36.0             0              0         current  23.45   \n",
      "4        Male  76.0             1              1         current  20.14   \n",
      "...       ...   ...           ...            ...             ...    ...   \n",
      "99995  Female  80.0             0              0         No Info  27.32   \n",
      "99996  Female   2.0             0              0         No Info  17.37   \n",
      "99997    Male  66.0             0              0          former  27.83   \n",
      "99998  Female  24.0             0              0           never  35.42   \n",
      "99999  Female  57.0             0              0         current  22.43   \n",
      "\n",
      "       HbA1c_level  blood_glucose_level  diabetes  \n",
      "0              6.6                  140         0  \n",
      "1              6.6                   80         0  \n",
      "2              5.7                  158         0  \n",
      "3              5.0                  155         0  \n",
      "4              4.8                  155         0  \n",
      "...            ...                  ...       ...  \n",
      "99995          6.2                   90         0  \n",
      "99996          6.5                  100         0  \n",
      "99997          5.7                  155         0  \n",
      "99998          4.0                  100         0  \n",
      "99999          6.6                   90         0  \n",
      "\n",
      "[100000 rows x 9 columns]>\n"
     ]
    }
   ],
   "source": [
    "dataset = pandas.read_csv('./diabetes_prediction_dataset.csv')\n",
    "\n",
    "print('Dataset shape: ', dataset.shape)\n",
    "print(dataset.head(5))\n",
    "\n",
    "print('All columns present in dataset: ')\n",
    "for i, col in enumerate(dataset.columns):\n",
    "    print(f'{i+1}. {col}')\n",
    "    \n",
    "print('Dataset information: ', dataset.info)"
   ]
  },
  {
   "cell_type": "markdown",
   "metadata": {},
   "source": [
    "Preprocessing dataset\n",
    "* remove categorical feature (gender, smoking_history)\n",
    "* handle missing values"
   ]
  },
  {
   "cell_type": "code",
   "execution_count": 120,
   "metadata": {},
   "outputs": [
    {
     "name": "stdout",
     "output_type": "stream",
     "text": [
      "Dataset after removing categorical features (gender, smoking_history): \n",
      "     age  hypertension  heart_disease    bmi  HbA1c_level  blood_glucose_level  \\\n",
      "0  80.0             0              1  25.19          6.6                  140   \n",
      "1  54.0             0              0  27.32          6.6                   80   \n",
      "2  28.0             0              0  27.32          5.7                  158   \n",
      "3  36.0             0              0  23.45          5.0                  155   \n",
      "4  76.0             1              1  20.14          4.8                  155   \n",
      "\n",
      "   diabetes  \n",
      "0         0  \n",
      "1         0  \n",
      "2         0  \n",
      "3         0  \n",
      "4         0  \n",
      "X: \n",
      "     age  hypertension  heart_disease    bmi  HbA1c_level  blood_glucose_level\n",
      "0  80.0             0              1  25.19          6.6                  140\n",
      "1  54.0             0              0  27.32          6.6                   80\n",
      "2  28.0             0              0  27.32          5.7                  158\n",
      "3  36.0             0              0  23.45          5.0                  155\n",
      "4  76.0             1              1  20.14          4.8                  155\n",
      "Y: \n",
      " 0    0\n",
      "1    0\n",
      "2    0\n",
      "3    0\n",
      "4    0\n",
      "Name: diabetes, dtype: int64\n"
     ]
    }
   ],
   "source": [
    "dataset = dataset.drop(columns=['gender', 'smoking_history'])\n",
    "print('Dataset after removing categorical features (gender, smoking_history): \\n', dataset.head(5))\n",
    "\n",
    "X = dataset.drop(columns=['diabetes'])\n",
    "y = dataset['diabetes']\n",
    "\n",
    "print('X: \\n', X.head(5))\n",
    "print('Y: \\n', y.head(5))\n"
   ]
  },
  {
   "cell_type": "markdown",
   "metadata": {},
   "source": [
    "Spliting up the dataset to train and test according to ***(156 % 30) + 2 = 8***"
   ]
  },
  {
   "cell_type": "code",
   "execution_count": 121,
   "metadata": {},
   "outputs": [
    {
     "name": "stdout",
     "output_type": "stream",
     "text": [
      "X_train shape:  (99992, 6)\n",
      "X_test shape:  (8, 6)\n",
      "y_train:  (99992,)\n",
      "y_test:  (8,)\n"
     ]
    }
   ],
   "source": [
    "X_train, X_test, y_train, y_test = train_test_split(X, y, test_size=8)\n",
    "\n",
    "print('X_train shape: ', X_train.shape)\n",
    "print('X_test shape: ', X_test.shape)\n",
    "print('y_train: ', y_train.shape)\n",
    "print('y_test: ', y_test.shape)"
   ]
  },
  {
   "cell_type": "markdown",
   "metadata": {},
   "source": [
    "Training model using ***K-Nearest Neighbors***"
   ]
  },
  {
   "cell_type": "code",
   "execution_count": 122,
   "metadata": {},
   "outputs": [
    {
     "name": "stdout",
     "output_type": "stream",
     "text": [
      "Accuracy:  1.0\n",
      "Precision:  1.0\n",
      "Recall:  1.0\n",
      "F1 score:  1.0\n",
      "Difference: \n",
      "    Actual  Predicted\n",
      "0       0          0\n",
      "1       0          0\n",
      "2       0          0\n",
      "3       1          1\n",
      "4       0          0\n",
      "5       0          0\n",
      "6       0          0\n",
      "7       0          0\n",
      "Confusion Matrix: \n",
      " [[7 0]\n",
      " [0 1]]\n"
     ]
    }
   ],
   "source": [
    "knn = KNeighborsClassifier(n_neighbors=7).fit(X_train, y_train)\n",
    "\n",
    "knn_predictions = knn.predict(X_test)\n",
    "knn_accuracy = knn.score(X_test, y_test)\n",
    "print('Accuracy: ', knn_accuracy)\n",
    "knn_precision = precision_score(y_test, knn_predictions)\n",
    "print('Precision: ', knn_precision)\n",
    "knn_recall = recall_score(y_test, knn_predictions)\n",
    "print('Recall: ', knn_recall)\n",
    "knn_f1 = f1_score(y_test, knn_predictions)\n",
    "print('F1 score: ', knn_f1)\n",
    "knn_df = pandas.DataFrame({'Actual': y_test.values, 'Predicted': knn_predictions.flatten()})\n",
    "print('Difference: \\n', knn_df)\n",
    "\n",
    "knn_cm = confusion_matrix(y_test, knn_predictions, labels=[0, 1])\n",
    "print('Confusion Matrix: \\n', knn_cm)"
   ]
  },
  {
   "cell_type": "markdown",
   "metadata": {},
   "source": [
    "Training model using ***Decision Tree***"
   ]
  },
  {
   "cell_type": "code",
   "execution_count": 123,
   "metadata": {},
   "outputs": [
    {
     "name": "stdout",
     "output_type": "stream",
     "text": [
      "Accuracy:  1.0\n",
      "Precision:  1.0\n",
      "Recall:  1.0\n",
      "F1 score:  1.0\n",
      "Difference: \n",
      "    Actual  Predictions\n",
      "0       0            0\n",
      "1       0            0\n",
      "2       0            0\n",
      "3       1            1\n",
      "4       0            0\n",
      "5       0            0\n",
      "6       0            0\n",
      "7       0            0\n",
      "Confusion Matrix: \n",
      " [[7 0]\n",
      " [0 1]]\n"
     ]
    }
   ],
   "source": [
    "decision_tree = tree.DecisionTreeClassifier()\n",
    "decision_tree.fit(X_train, y_train)\n",
    "\n",
    "dt_predictions = decision_tree.predict(X_test)\n",
    "dt_accuracy = accuracy_score(y_test, dt_predictions)\n",
    "print('Accuracy: ', dt_accuracy)\n",
    "dt_precision = precision_score(y_test, dt_predictions)\n",
    "print('Precision: ', dt_precision)\n",
    "dt_recall = recall_score(y_test, dt_predictions)\n",
    "print('Recall: ', dt_recall)\n",
    "dt_f1 = f1_score(y_test, dt_predictions)\n",
    "print('F1 score: ', dt_f1)\n",
    "dt_df = pandas.DataFrame({'Actual': y_test.values, 'Predictions': dt_predictions.flatten()})\n",
    "print('Difference: \\n', dt_df)\n",
    "\n",
    "dt_cm = confusion_matrix(y_test, dt_predictions, labels=[0, 1])\n",
    "print('Confusion Matrix: \\n', dt_cm)"
   ]
  },
  {
   "cell_type": "markdown",
   "metadata": {},
   "source": [
    "Performance comparison between Decision Tree and K-Nearest Neighbors"
   ]
  },
  {
   "cell_type": "code",
   "execution_count": 124,
   "metadata": {},
   "outputs": [
    {
     "name": "stdout",
     "output_type": "stream",
     "text": [
      "Both K-Nearest Neighbors and Decision Tree model performed same\n"
     ]
    }
   ],
   "source": [
    "if knn_f1 == dt_f1:\n",
    "    print('Both K-Nearest Neighbors and Decision Tree model performed same')\n",
    "elif knn_f1 > dt_f1:\n",
    "    print('K-Nearest Neighbors model performed better')\n",
    "else:\n",
    "    print('Decision Tree model performed better')"
   ]
  }
 ],
 "metadata": {
  "kernelspec": {
   "display_name": "Python 3",
   "language": "python",
   "name": "python3"
  },
  "language_info": {
   "codemirror_mode": {
    "name": "ipython",
    "version": 3
   },
   "file_extension": ".py",
   "mimetype": "text/x-python",
   "name": "python",
   "nbconvert_exporter": "python",
   "pygments_lexer": "ipython3",
   "version": "3.12.4"
  }
 },
 "nbformat": 4,
 "nbformat_minor": 2
}
